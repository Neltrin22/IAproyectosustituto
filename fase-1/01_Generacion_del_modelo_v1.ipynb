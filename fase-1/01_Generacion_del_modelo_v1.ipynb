{
  "nbformat": 4,
  "nbformat_minor": 0,
  "metadata": {
    "colab": {
      "provenance": []
    },
    "kernelspec": {
      "name": "python3",
      "display_name": "Python 3"
    },
    "language_info": {
      "name": "python"
    }
  },
  "cells": [
    {
      "cell_type": "code",
      "source": [
        "!pip install kaggle"
      ],
      "metadata": {
        "id": "Ocjmu8X9QX36"
      },
      "execution_count": null,
      "outputs": []
    },
    {
      "cell_type": "code",
      "source": [
        "from google.colab import files\n",
        "uploaded = files.upload()"
      ],
      "metadata": {
        "id": "lkuk_LG1QaNn"
      },
      "execution_count": null,
      "outputs": []
    },
    {
      "cell_type": "code",
      "source": [
        "!mkdir ~/.kaggle\n",
        "!mv kaggle.json ~/.kaggle/\n"
      ],
      "metadata": {
        "id": "lcz6iBVEcdmn"
      },
      "execution_count": null,
      "outputs": []
    },
    {
      "cell_type": "code",
      "source": [
        "!kaggle competitions download -c playground-series-s4e2"
      ],
      "metadata": {
        "id": "ZxtOlkz3dRZH"
      },
      "execution_count": null,
      "outputs": []
    },
    {
      "cell_type": "code",
      "source": [
        "import zipfile\n",
        "\n",
        "# Ruta al archivo comprimido\n",
        "zip_file_path = \"/content/playground-series-s4e2.zip\"\n",
        "\n",
        "# Directorio de destino para la extracción\n",
        "extract_dir = \"/content/sample_data\"\n",
        "\n",
        "# Descomprimir el archivo\n",
        "with zipfile.ZipFile(zip_file_path, 'r') as zip_ref:\n",
        "    zip_ref.extractall(extract_dir)\n"
      ],
      "metadata": {
        "id": "eZF_XygZiofw"
      },
      "execution_count": 7,
      "outputs": []
    },
    {
      "cell_type": "code",
      "execution_count": 8,
      "metadata": {
        "id": "jHDx6YiOcaPx",
        "colab": {
          "base_uri": "https://localhost:8080/"
        },
        "outputId": "e8dfd948-6856-4852-e016-b5247b8bbc69"
      },
      "outputs": [
        {
          "output_type": "stream",
          "name": "stdout",
          "text": [
            "Best Model Accuracy: 0.8908959537572254\n"
          ]
        }
      ],
      "source": [
        "# This Python 3 environment comes with many helpful analytics libraries installed\n",
        "# It is defined by the kaggle/python Docker image: https://github.com/kaggle/docker-python\n",
        "# For example, here's several helpful packages to load\n",
        "\n",
        "import numpy as np # linear algebra\n",
        "import pandas as pd # data processing, CSV file I/O (e.g. pd.read_csv)\n",
        "import pandas as pd\n",
        "from sklearn.preprocessing import OneHotEncoder\n",
        "from sklearn.model_selection import train_test_split, GridSearchCV\n",
        "from sklearn.ensemble import RandomForestClassifier\n",
        "from sklearn.metrics import accuracy_score\n",
        "\n",
        "# Load the data\n",
        "train_data = pd.read_csv(\"/content/sample_data/train.csv\")\n",
        "test_data = pd.read_csv(\"/content/sample_data/test.csv\")\n",
        "\n",
        "# Separate features and target variable\n",
        "X_train = train_data.drop(columns=[\"id\", \"NObeyesdad\"])\n",
        "y_train = train_data[\"NObeyesdad\"]\n",
        "X_test = test_data.drop(columns=[\"id\"])\n",
        "\n",
        "# One-hot encode categorical features for both training and test data\n",
        "X_train_encoded = pd.get_dummies(X_train)\n",
        "X_test_encoded = pd.get_dummies(X_test)\n",
        "\n",
        "# Align the columns in the test dataset with those in the training dataset\n",
        "missing_cols = set(X_train_encoded.columns) - set(X_test_encoded.columns)\n",
        "for col in missing_cols:\n",
        "    X_test_encoded[col] = 0\n",
        "\n",
        "# Ensure the order of columns is the same\n",
        "X_test_encoded = X_test_encoded[X_train_encoded.columns]\n",
        "\n",
        "# Split the training data into training and validation sets\n",
        "X_train_final, X_valid, y_train_final, y_valid = train_test_split(X_train_encoded, y_train, test_size=0.2, random_state=42)\n",
        "\n",
        "# Define the classifier\n",
        "rf = RandomForestClassifier(random_state=42)\n",
        "\n",
        "# Define the hyperparameters to tune\n",
        "param_grid = {\n",
        "    'n_estimators': [100, 200, 300],\n",
        "    'max_depth': [None, 10, 20],\n",
        "    'min_samples_split': [2, 5, 10]\n",
        "}\n",
        "\n",
        "# Perform grid search cross-validation\n",
        "grid_search = GridSearchCV(rf, param_grid, cv=5, scoring='accuracy', n_jobs=-1)\n",
        "grid_search.fit(X_train_final, y_train_final)\n",
        "\n",
        "# Get the best model\n",
        "best_rf = grid_search.best_estimator_\n",
        "\n",
        "# Evaluate the best model\n",
        "best_rf.fit(X_train_final, y_train_final)\n",
        "best_rf_pred = best_rf.predict(X_valid)\n",
        "best_accuracy = accuracy_score(y_valid, best_rf_pred)\n",
        "print(\"Best Model Accuracy:\", best_accuracy)\n",
        "\n",
        "# Make predictions on test data using the best model\n",
        "test_predictions = best_rf.predict(X_test_encoded)\n",
        "\n",
        "# Create submission DataFrame\n",
        "submission = pd.DataFrame({\"id\": test_data[\"id\"], \"NObeyesdad\": test_predictions})\n",
        "\n",
        "# Save submission file\n",
        "submission.to_csv(\"/content/sample_data/submission.csv\", index=False)"
      ]
    }
  ]
}